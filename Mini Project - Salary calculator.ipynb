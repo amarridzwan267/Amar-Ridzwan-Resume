{
 "cells": [
  {
   "cell_type": "code",
   "execution_count": 1,
   "id": "366eec07-64e0-41e1-8c66-2fbfb77c64ab",
   "metadata": {},
   "outputs": [
    {
     "name": "stdin",
     "output_type": "stream",
     "text": [
      "Please enter your name:  John Doe\n",
      "Please enter your current salary(RM):  5000\n",
      "Expected increment percentage:  5\n",
      "For years:  10\n"
     ]
    },
    {
     "name": "stdout",
     "output_type": "stream",
     "text": [
      " \n",
      "Your salary in the upcoming years: \n",
      "Year 1 = RM 5250.0\n",
      " \n",
      "Your salary in the upcoming years: \n",
      "Year 2 = RM 5512.5\n",
      " \n",
      "Your salary in the upcoming years: \n",
      "Year 3 = RM 5788.12\n",
      " \n",
      "Your salary in the upcoming years: \n",
      "Year 4 = RM 6077.53\n",
      " \n",
      "Your salary in the upcoming years: \n",
      "Year 5 = RM 6381.41\n",
      " \n",
      "Your salary in the upcoming years: \n",
      "Year 6 = RM 6700.48\n",
      " \n",
      "Your salary in the upcoming years: \n",
      "Year 7 = RM 7035.5\n",
      " \n",
      "Your salary in the upcoming years: \n",
      "Year 8 = RM 7387.28\n",
      " \n",
      "Your salary in the upcoming years: \n",
      "Year 9 = RM 7756.64\n",
      " \n",
      "Your salary in the upcoming years: \n",
      "Year 10 = RM 8144.47\n",
      " \n",
      "You are M40. Well done!\n"
     ]
    }
   ],
   "source": [
    "name = input(\"Please enter your name: \")\n",
    "\n",
    "base_salary = int(input(\"Please enter your current salary(RM): \"))\n",
    "if base_salary<0:\n",
    "    print(\"Input invalid. Error may occur\")\n",
    "    base_salary = 0\n",
    "\n",
    "increment = int(input(\"Expected increment percentage: \"))\n",
    "if increment<0:\n",
    "    print(\"Input invalid. Error may occur\")\n",
    "    increment = -100\n",
    "\n",
    "years = int(input(\"For years: \"))\n",
    "if years<0:\n",
    "    print(\"Input invalid. Error may occur\")\n",
    "    years = 0\n",
    "\n",
    "print(\" \")\n",
    "\n",
    "for i in range(years):\n",
    "    new_salary = base_salary*(1+(increment/100))\n",
    "    base_salary = new_salary\n",
    "    print(\"Your salary in the upcoming years: \")\n",
    "    print(\"Year\", i+1, \"=\", \"RM\", round(base_salary, 2))\n",
    "    print(\" \")\n",
    "\n",
    "if base_salary>0:\n",
    "    if base_salary<1700:\n",
    "        print(\"You are living below minimum wage. Time to find a new job\")\n",
    "    elif(base_salary<5250):\n",
    "        print(\"You are B40. Let's work harder & smarter!\")\n",
    "    elif(base_salary<11820):\n",
    "        print(\"You are M40. Well done!\")\n",
    "    elif(base_salary>11820):\n",
    "        print(\"You are T20. Congratulations!\")\n",
    "else:\n",
    "    print(\"You have entered invalid input(s). Please try again\")\n",
    "        \n"
   ]
  },
  {
   "cell_type": "code",
   "execution_count": null,
   "id": "7e543f2f-8052-45bc-a433-1fa50e2501a5",
   "metadata": {},
   "outputs": [],
   "source": []
  }
 ],
 "metadata": {
  "kernelspec": {
   "display_name": "Python 3 (ipykernel)",
   "language": "python",
   "name": "python3"
  },
  "language_info": {
   "codemirror_mode": {
    "name": "ipython",
    "version": 3
   },
   "file_extension": ".py",
   "mimetype": "text/x-python",
   "name": "python",
   "nbconvert_exporter": "python",
   "pygments_lexer": "ipython3",
   "version": "3.12.4"
  }
 },
 "nbformat": 4,
 "nbformat_minor": 5
}
